{
 "cells": [
  {
   "cell_type": "markdown",
   "metadata": {},
   "source": [
    "## The Birthday Problem\n",
    "\n",
    "How likely do you think it is that at least two people in a coffee shop share the same birthday?  (Let's call two people that have the same birthday \"birthday twins\".\n",
    "\n",
    "How many people do you need to put in a room before there's a 50% chance of having a \"birthday twin\"?\n",
    "\n",
    "What does the probability of having a \"birthday twin\" look like plotted for $n=1,2,...,1000$ ?\n",
    "\n",
    "\n",
    "### Solution\n",
    "\n",
    "The easiest way to think about this problem is to subtract from 1 the probability that nobody has the same birthday. Otherwise, if you try to directly count the probability that at least two people have the same birthday, you have to do all the combinatorics associated with there being 3 people with the same birthday, 5 people with the same birthday, two pairs of people with the same birthday, etc...\n",
    "\n",
    "Here's how we think abouto the problem.  When the first person walks into the coffee shop, all available 365 days of the calendar year are available for him to claim as \"his\":\n",
    "\n",
    "$$P( \\text{no \"birthday twins\"} \\ | \\ n = 1) = \\frac{365}{365} $$\n",
    "\n",
    "When the second person walks into the coffee shop, there are now only 364 days available for him to claim:\n",
    "\n",
    "$$P( \\text{no \"birthday twins\"} \\ | \\ n = 2) = \\frac{365}{365} \\times \\frac{364}{365}$$\n",
    "\n",
    "And the third person has 363 days left to claim:\n",
    "\n",
    "$$P( \\text{no \"birthday twins\"} \\ | \\ n = 3) = \\frac{365}{365} \\times \\frac{364}{365} \\times \\frac{363}{365}$$\n",
    "\n",
    "So, for example, the probability that there is at least one \"birthday twin\" is just:\n",
    "\n",
    "$$P( \\text{\"birthday twin\"} \\ | \\ n = 3) = 1 - P( \\text{no birthday \"twins\"} \\ | \\ n = 3) $$\n",
    "\n",
    "$$= 1 - \\big[ \\frac{365}{365} \\times \\frac{364}{365} \\times \\frac{363}{365} \\big]$$\n",
    "\n",
    "$$\\approx .82 \\%$$ \n",
    "\n"
   ]
  },
  {
   "cell_type": "markdown",
   "metadata": {},
   "source": [
    "Let's write a program to solve this for each $n$:"
   ]
  },
  {
   "cell_type": "code",
   "execution_count": 2,
   "metadata": {
    "collapsed": false
   },
   "outputs": [
    {
     "data": {
      "image/png": "[encoded data removed]",
      "text/plain": [
       "<matplotlib.figure.Figure at 0x1117bce10>"
      ]
     },
     "metadata": {},
     "output_type": "display_data"
    }
   ],
   "source": [
    "import numpy as np\n",
    "import math\n",
    "import matplotlib.pyplot as plt\n",
    "%matplotlib inline\n",
    "\n",
    "\n",
    "x = np.random.randn(10,1)\n",
    "y = np.random.randn(1,10)\n",
    "plt.plot(x,y);plt.show()\n"
   ]
  },
  {
   "cell_type": "code",
   "execution_count": null,
   "metadata": {
    "collapsed": true
   },
   "outputs": [],
   "source": []
  }
 ],
 "metadata": {
  "kernelspec": {
   "display_name": "Python 2",
   "language": "python",
   "name": "python2"
  },
  "language_info": {
   "codemirror_mode": {
    "name": "ipython",
    "version": 2
   },
   "file_extension": ".py",
   "mimetype": "text/x-python",
   "name": "python",
   "nbconvert_exporter": "python",
   "pygments_lexer": "ipython2",
   "version": "2.7.10"
  }
 },
 "nbformat": 4,
 "nbformat_minor": 0
}
